{
 "cells": [
  {
   "cell_type": "markdown",
   "metadata": {
    "id": "FicjAlQHA3a7"
   },
   "source": [
    "<img src=\"http://drive.google.com/uc?export=view&id=1tpOCamr9aWz817atPnyXus8w5gJ3mIts\" width=500px>\n",
    "\n",
    "Proprietary content. © Great Learning. All Rights Reserved. Unauthorized use or distribution prohibited."
   ]
  },
  {
   "cell_type": "markdown",
   "metadata": {
    "id": "fXEy7iu-A7bZ"
   },
   "source": [
    "# Hands-on Session - Advanced Certificate in Software Engineering - IIT Madras"
   ]
  },
  {
   "cell_type": "markdown",
   "metadata": {
    "id": "pDlJeyRo-DZb"
   },
   "source": [
    "## Question 1"
   ]
  },
  {
   "cell_type": "markdown",
   "metadata": {
    "id": "RYzl6Uxso9NV"
   },
   "source": [
    "Given two lists of integers list1 and list2, write a function to create list3 which will contain only odd numbers from the list1 and even numbers from list2.\n",
    "\n",
    "You can use this list as your input. No need to accept the user input for this problem. \n",
    "\n",
    "#### Sample Input/Output\n",
    "\n",
    "**Sample 1**\n",
    "##### Input\n",
    "list1 = [10, 20, 23, 11, 17]\n",
    "\n",
    "list2 = [13, 43, 24, 36, 12]\n",
    "\n",
    "##### Output\n",
    "\n",
    "Merged List : [23, 11, 17, 24, 36, 12] \n"
   ]
  },
  {
   "cell_type": "code",
   "execution_count": null,
   "metadata": {
    "id": "HZOISZZpo9NW"
   },
   "outputs": [],
   "source": [
    "#### Add your code here ####"
   ]
  },
  {
   "cell_type": "markdown",
   "metadata": {
    "id": "FGFn6uRb_RSH"
   },
   "source": [
    "## Question 2"
   ]
  },
  {
   "cell_type": "markdown",
   "metadata": {
    "id": "UkKYKA8sYkfF"
   },
   "source": [
    "Write a program to check if `n` is a prime number. \n",
    "\n",
    "Note: `n` will be given by user. \n",
    "**Sample Input/Output 1:** \n",
    "\n",
    "- Input: `Enter the number: 5`\n",
    "- Output: `Prime number`\n",
    "---\n",
    "**Sample Input/Output 2:** \n",
    "\n",
    "- Input: `Enter the number: 10`\n",
    "- Output: `Not a prime number`\n",
    "\n"
   ]
  },
  {
   "cell_type": "code",
   "execution_count": null,
   "metadata": {
    "id": "dTC1hOeyYkfF"
   },
   "outputs": [],
   "source": [
    "#### Add your code here ####"
   ]
  },
  {
   "cell_type": "markdown",
   "metadata": {
    "id": "AAjGlE8hAV7t"
   },
   "source": [
    "## Question 3\n",
    "\n",
    "Write a python code for following :\n",
    "\n",
    "1. Create a `bike` class with attributes named as `name`, `distance`. \n",
    "2. Write a method inside `bike` class named as `trip` to print the attributes for instantaiated object.\n",
    "\n",
    "You can create your input statically. No need to accept the user input for this problem. \n",
    "\n",
    "**Sample Input/Output 1:** \n",
    "\n",
    "- Input: `bike(Honda, 200)`\n",
    "- Output: `Honda has reached 200 KM`\n",
    "---\n",
    "**Sample Input/Output 2:** \n",
    "\n",
    "- Input: `bike(Hero, 300)`\n",
    "- Output: `Hero has reached 300 KM`\n"
   ]
  },
  {
   "cell_type": "code",
   "execution_count": 6,
   "metadata": {
    "id": "vaLON61ZVqTw"
   },
   "outputs": [],
   "source": [
    "#### Add your code here ####"
   ]
  }
 ],
 "metadata": {
  "colab": {
   "name": "Questions - Python Programming - Hands-on Session.ipynb",
   "provenance": []
  },
  "kernelspec": {
   "display_name": "Python 3",
   "language": "python",
   "name": "python3"
  },
  "language_info": {
   "codemirror_mode": {
    "name": "ipython",
    "version": 3
   },
   "file_extension": ".py",
   "mimetype": "text/x-python",
   "name": "python",
   "nbconvert_exporter": "python",
   "pygments_lexer": "ipython3",
   "version": "3.8.5"
  }
 },
 "nbformat": 4,
 "nbformat_minor": 1
}
