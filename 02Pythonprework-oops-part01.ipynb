{
 "cells": [
  {
   "cell_type": "markdown",
   "metadata": {},
   "source": [
    "# Object Oriented Programming (OOPS)\n",
    "- DRY - do not repeat yourselves\n",
    "- Reusability\n",
    "- Modularization"
   ]
  },
  {
   "cell_type": "markdown",
   "metadata": {},
   "source": [
    "## Class\n",
    "- class is a skeleton blueprint\n",
    "- it will have attributes, methods for actions and constructors\n",
    "- it is a user-defined data sctructure"
   ]
  },
  {
   "cell_type": "markdown",
   "metadata": {},
   "source": [
    "### Naming convention for Class\n",
    "- First letter is uppercase\n",
    "- subsequent letters are lowercase\n",
    "- for two or more words; capitalise the start of first word in each case"
   ]
  },
  {
   "cell_type": "code",
   "execution_count": 1,
   "metadata": {},
   "outputs": [],
   "source": [
    "class Animal:\n",
    "    \"This represents Animal entity\"\n",
    "    pass"
   ]
  },
  {
   "cell_type": "markdown",
   "metadata": {},
   "source": [
    "## Objects\n",
    "- Object is an instance of a class\n",
    "- it is a real entity and class is not\n",
    "- Memory allocation takes place when object is created"
   ]
  },
  {
   "cell_type": "markdown",
   "metadata": {},
   "source": [
    "### Naming convention for Objects\n",
    "- use lowercase\n",
    "- underscore to seperate the words"
   ]
  },
  {
   "cell_type": "code",
   "execution_count": 3,
   "metadata": {},
   "outputs": [],
   "source": [
    "cat = Animal()"
   ]
  },
  {
   "cell_type": "code",
   "execution_count": 4,
   "metadata": {},
   "outputs": [
    {
     "name": "stdout",
     "output_type": "stream",
     "text": [
      "<__main__.Animal object at 0x00000185895FAEB0>\n"
     ]
    }
   ],
   "source": [
    "print(cat)"
   ]
  },
  {
   "cell_type": "markdown",
   "metadata": {},
   "source": [
    "### Object Attributes\n",
    "- Attributes hold the state of the object\n",
    "- built-in attributes (class attributes)\n",
    "    - __dic__ : class namespace\n",
    "    - __doc__ : documentation string\n",
    "    - __module__ : module name in which class i defined\n",
    "    - __name__ : class name\n",
    "    - __bases__ : (base1, base2, base3,..) list of base class\n",
    "- instance attributes\n",
    "    - are created when object is instantiated"
   ]
  },
  {
   "cell_type": "markdown",
   "metadata": {},
   "source": [
    "### Constructor\n",
    "- is a special function that is called implicitly when the object of a class is created\n",
    "- used to create and initialize the attributes"
   ]
  },
  {
   "cell_type": "code",
   "execution_count": 25,
   "metadata": {},
   "outputs": [],
   "source": [
    "class Animal:\n",
    "    \"This is an animal entity\"\n",
    "    name = \"Animal\" # class attribute\n",
    "    def __init__(self, color, noOfLegs, type, canFly): # instance attribute\n",
    "        self.color = color\n",
    "        self.noOfLegs = noOfLegs\n",
    "        self.type = type\n",
    "        self.canFly = canFly"
   ]
  },
  {
   "cell_type": "code",
   "execution_count": 8,
   "metadata": {},
   "outputs": [],
   "source": [
    "cat = Animal(\"black\", 4, \"pet\", False)\n",
    "dog = Animal(\"whilte\", 4, \"pet\", True)"
   ]
  },
  {
   "cell_type": "code",
   "execution_count": 9,
   "metadata": {},
   "outputs": [
    {
     "name": "stdout",
     "output_type": "stream",
     "text": [
      "black 4 Animal\n"
     ]
    }
   ],
   "source": [
    "print(cat.color, cat.noOfLegs, cat.name)"
   ]
  },
  {
   "cell_type": "code",
   "execution_count": 10,
   "metadata": {},
   "outputs": [
    {
     "name": "stdout",
     "output_type": "stream",
     "text": [
      "whilte 4 Animal\n"
     ]
    }
   ],
   "source": [
    "print(dog.color, dog.noOfLegs, dog.name)"
   ]
  },
  {
   "cell_type": "code",
   "execution_count": 11,
   "metadata": {},
   "outputs": [
    {
     "name": "stdout",
     "output_type": "stream",
     "text": [
      "black 4 Pet Animal\n",
      "whilte 4 Pet Animal\n"
     ]
    }
   ],
   "source": [
    "# update class variable \n",
    "\n",
    "Animal.name = \"Pet Animal\" # class variable update\n",
    "print(cat.color, cat.noOfLegs, cat.name)\n",
    "print(dog.color, dog.noOfLegs, dog.name)"
   ]
  },
  {
   "cell_type": "code",
   "execution_count": 13,
   "metadata": {},
   "outputs": [
    {
     "name": "stdout",
     "output_type": "stream",
     "text": [
      "black 4 Meow Animal\n",
      "whilte 4 Pet Animal\n"
     ]
    }
   ],
   "source": [
    "# access class variable via object\n",
    "cat.name = \"Meow Animal\" # only class variable of the instance is changed\n",
    "print(cat.color, cat.noOfLegs, cat.name)\n",
    "print(dog.color, dog.noOfLegs, dog.name)"
   ]
  },
  {
   "cell_type": "markdown",
   "metadata": {},
   "source": [
    "### Methods\n",
    "- functionalities that an entity can perform\n",
    "- also known as instance methods since they are associated with objects\n",
    "- first parameter should be self (to refer the currnet object)"
   ]
  },
  {
   "cell_type": "code",
   "execution_count": 23,
   "metadata": {},
   "outputs": [],
   "source": [
    "class Animal:\n",
    "    \"This is an animal entity\"\n",
    "    def __init__(self, name, color, noOfLegs, type, canFly): # instance attribute\n",
    "        self.name = name\n",
    "        self.color = color\n",
    "        self.noOfLegs = noOfLegs\n",
    "        self.type = type\n",
    "        self.canFly = canFly\n",
    "        \n",
    "    def run(self):\n",
    "        print(self.name, \" is running\")\n",
    "        \n",
    "    def eat(self, eatable, qty):\n",
    "        self.eatable = eatable\n",
    "        self.qty = qty\n",
    "        print(f\"{self.name} is eating {self.qty} of {self.eatable}\")"
   ]
  },
  {
   "cell_type": "code",
   "execution_count": 24,
   "metadata": {},
   "outputs": [
    {
     "name": "stdout",
     "output_type": "stream",
     "text": [
      "puffy  is running\n",
      "puffy is eating 30 of cheese\n"
     ]
    }
   ],
   "source": [
    "cat = Animal(\"puffy\",\"black\", 4, \"pet\", False)\n",
    "cat.run()\n",
    "cat.eat(\"cheese\", 30)\n"
   ]
  },
  {
   "cell_type": "code",
   "execution_count": null,
   "metadata": {},
   "outputs": [],
   "source": []
  }
 ],
 "metadata": {
  "kernelspec": {
   "display_name": "Python 3",
   "language": "python",
   "name": "python3"
  },
  "language_info": {
   "codemirror_mode": {
    "name": "ipython",
    "version": 3
   },
   "file_extension": ".py",
   "mimetype": "text/x-python",
   "name": "python",
   "nbconvert_exporter": "python",
   "pygments_lexer": "ipython3",
   "version": "3.8.3"
  }
 },
 "nbformat": 4,
 "nbformat_minor": 4
}
