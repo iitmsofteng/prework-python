{
 "cells": [
  {
   "cell_type": "markdown",
   "metadata": {},
   "source": [
    "# Advanced OOPS"
   ]
  },
  {
   "cell_type": "markdown",
   "metadata": {},
   "source": [
    "## Inheritance\n",
    "- it is amechanism which allows a class to inherit attributes and methods of another class\n",
    "- class inheriting is refreed to as the child or derived class\n",
    "- calss from inheriting takes palce is referred as parent or base class\n",
    "- enforces code reusability\n",
    "- child class can have their own properties and methods as well\n",
    "- super() is an in-buil function that can be called to refer to partent's attributes or methods\n",
    "- isinstance() --> to check if the object is a particular class\n",
    "- insubclass() --> to check if the class is inherited from parent class\n",
    "- types\n",
    "    - single level\n",
    "    - multi level\n",
    "    - multiple\n",
    "    - hierarchical\n",
    "    - hubrid"
   ]
  },
  {
   "cell_type": "markdown",
   "metadata": {},
   "source": [
    "### Single Level inheritance\n",
    "- one Base class --> one Derived class"
   ]
  },
  {
   "cell_type": "code",
   "execution_count": 15,
   "metadata": {},
   "outputs": [
    {
     "name": "stdout",
     "output_type": "stream",
     "text": [
      "this is Employee\n",
      "This is Faculty\n",
      "Alex with code 123\n"
     ]
    }
   ],
   "source": [
    "class Employee:\n",
    "    def __init__(self, name, code):\n",
    "        self.name = name\n",
    "        self.code = code\n",
    "        print(\"this is Employee\")\n",
    "        \n",
    "    def display(self):\n",
    "        print(f\"{self.name} with code {self.code}\")\n",
    "              \n",
    "class Faculty(Employee):\n",
    "    def __init__(self, name, code, dept):\n",
    "        # self.name = name\n",
    "        # self.code = code\n",
    "        # or \n",
    "        # Employee.__init__(self, name, code)\n",
    "        # or\n",
    "        super().__init__(name, code)\n",
    "        self.dept = dept\n",
    "        print(\"This is Faculty\")\n",
    "              \n",
    "Alex = Faculty(\"Alex\", \"123\", \"CS\")\n",
    "Alex.display()"
   ]
  },
  {
   "cell_type": "markdown",
   "metadata": {},
   "source": [
    "### Multi level inheritance\n",
    "- can be termed as cascading single level inheritance"
   ]
  },
  {
   "cell_type": "code",
   "execution_count": 20,
   "metadata": {},
   "outputs": [],
   "source": [
    "class HOD(Faculty):\n",
    "    def __init__(self):\n",
    "        super().__init__(\"Arun\", 34, \"IT\")\n",
    "        print(\"this is HOD\")"
   ]
  },
  {
   "cell_type": "code",
   "execution_count": 21,
   "metadata": {},
   "outputs": [
    {
     "name": "stdout",
     "output_type": "stream",
     "text": [
      "this is Employee\n",
      "This is Faculty\n",
      "this is HOD\n"
     ]
    }
   ],
   "source": [
    "ob = HOD()"
   ]
  },
  {
   "cell_type": "markdown",
   "metadata": {},
   "source": [
    "### Multiple inheritance\n",
    "- n x bases and one derived class"
   ]
  },
  {
   "cell_type": "code",
   "execution_count": 22,
   "metadata": {},
   "outputs": [
    {
     "name": "stdout",
     "output_type": "stream",
     "text": [
      "ABC\n"
     ]
    }
   ],
   "source": [
    "class Employee:\n",
    "    cllg_name = \"ABC\"\n",
    "    \n",
    "class SME:\n",
    "    cllg_name = \"XYZ\"\n",
    "    \n",
    "class Faculty(Employee, SME):\n",
    "    pass\n",
    "\n",
    "ob = Faculty()\n",
    "print(ob.cllg_name)"
   ]
  },
  {
   "cell_type": "markdown",
   "metadata": {},
   "source": [
    "### Hierarchical inheritance\n",
    "- one parent and multiple child classes from this common parent"
   ]
  },
  {
   "cell_type": "markdown",
   "metadata": {},
   "source": [
    "## Polymorphism\n",
    "- many + forms\n",
    "- same name different functionalities\n",
    "- when inheritance is involved then it is called overriding polymorphism"
   ]
  },
  {
   "cell_type": "markdown",
   "metadata": {},
   "source": [
    "## Encapsulation\n",
    "- wrapping of data + code in a single unit\n",
    "- security is achieved by using private attributes/methods (_classname, __varname). This is known as names mangling \n",
    "    - setter and getter is used to access the private entities"
   ]
  },
  {
   "cell_type": "code",
   "execution_count": 26,
   "metadata": {},
   "outputs": [
    {
     "name": "stdout",
     "output_type": "stream",
     "text": [
      "123\n"
     ]
    }
   ],
   "source": [
    "class SavingAcc:\n",
    "    _accno = 123 # _ is just convention for private but will not throw error if we access it\n",
    "    \n",
    "ob = SavingAcc()\n",
    "print(ob._accno)"
   ]
  },
  {
   "cell_type": "code",
   "execution_count": 34,
   "metadata": {},
   "outputs": [],
   "source": [
    "class SavingAcc:\n",
    "    __accno = 123 # __ make it private so cannot accessed by object.\n",
    "    \n",
    "    def get_accno(self): # getter method\n",
    "        return self.__accno\n",
    "    \n",
    "ob = SavingAcc()\n"
   ]
  },
  {
   "cell_type": "code",
   "execution_count": 35,
   "metadata": {},
   "outputs": [
    {
     "ename": "AttributeError",
     "evalue": "'SavingAcc' object has no attribute '_accno'",
     "output_type": "error",
     "traceback": [
      "\u001b[1;31m---------------------------------------------------------------------------\u001b[0m",
      "\u001b[1;31mAttributeError\u001b[0m                            Traceback (most recent call last)",
      "\u001b[1;32m<ipython-input-35-8eccc79f3d39>\u001b[0m in \u001b[0;36m<module>\u001b[1;34m\u001b[0m\n\u001b[1;32m----> 1\u001b[1;33m \u001b[0mprint\u001b[0m\u001b[1;33m(\u001b[0m\u001b[0mob\u001b[0m\u001b[1;33m.\u001b[0m\u001b[0m_accno\u001b[0m\u001b[1;33m)\u001b[0m\u001b[1;33m\u001b[0m\u001b[1;33m\u001b[0m\u001b[0m\n\u001b[0m",
      "\u001b[1;31mAttributeError\u001b[0m: 'SavingAcc' object has no attribute '_accno'"
     ]
    }
   ],
   "source": [
    "print(ob._accno)"
   ]
  },
  {
   "cell_type": "code",
   "execution_count": 36,
   "metadata": {},
   "outputs": [
    {
     "name": "stdout",
     "output_type": "stream",
     "text": [
      "123\n"
     ]
    }
   ],
   "source": [
    "print(ob.get_accno())"
   ]
  },
  {
   "cell_type": "code",
   "execution_count": 38,
   "metadata": {},
   "outputs": [
    {
     "name": "stdout",
     "output_type": "stream",
     "text": [
      "123\n"
     ]
    }
   ],
   "source": [
    "print(ob._SavingAcc__accno) # this is called names mangaling"
   ]
  },
  {
   "cell_type": "markdown",
   "metadata": {},
   "source": [
    "## Abstraction\n",
    "- hiding irrelevant informaton\n",
    "- method with no implementation is call abstract method\n",
    "- class having one or more adstract methods is called abstract class\n",
    "- Abstact class can be created by importing ABC class from abc modeul. It stands for Abstract Base Class"
   ]
  },
  {
   "cell_type": "code",
   "execution_count": 39,
   "metadata": {},
   "outputs": [],
   "source": [
    "from abc import ABC, abstractmethod\n",
    "\n",
    "class Bike(ABC):\n",
    "    \n",
    "    @abstractmethod # this will mark the method as abstract\n",
    "    def run(self):\n",
    "        pass\n",
    "    \n",
    "class Pulsar(Bike):\n",
    "    def run(self):\n",
    "        print(\"This is pulsar run\")\n",
    "        \n",
    "class Honda(Bike):\n",
    "    def run(self):\n",
    "        print(\"This is honda run\")\n"
   ]
  },
  {
   "cell_type": "code",
   "execution_count": 41,
   "metadata": {},
   "outputs": [
    {
     "ename": "TypeError",
     "evalue": "Can't instantiate abstract class Bike with abstract methods run",
     "output_type": "error",
     "traceback": [
      "\u001b[1;31m---------------------------------------------------------------------------\u001b[0m",
      "\u001b[1;31mTypeError\u001b[0m                                 Traceback (most recent call last)",
      "\u001b[1;32m<ipython-input-41-3a1cfcb0ff11>\u001b[0m in \u001b[0;36m<module>\u001b[1;34m\u001b[0m\n\u001b[1;32m----> 1\u001b[1;33m \u001b[0mob\u001b[0m \u001b[1;33m=\u001b[0m \u001b[0mBike\u001b[0m\u001b[1;33m(\u001b[0m\u001b[1;33m)\u001b[0m \u001b[1;31m# you cannot have instace of abstract class\u001b[0m\u001b[1;33m\u001b[0m\u001b[1;33m\u001b[0m\u001b[0m\n\u001b[0m",
      "\u001b[1;31mTypeError\u001b[0m: Can't instantiate abstract class Bike with abstract methods run"
     ]
    }
   ],
   "source": [
    "ob = Bike() # you cannot have instace of abstract class"
   ]
  },
  {
   "cell_type": "code",
   "execution_count": 44,
   "metadata": {},
   "outputs": [
    {
     "name": "stdout",
     "output_type": "stream",
     "text": [
      "This is pulsar run\n"
     ]
    }
   ],
   "source": [
    "ob1 = Pulsar()\n",
    "ob1.run()"
   ]
  },
  {
   "cell_type": "code",
   "execution_count": 45,
   "metadata": {},
   "outputs": [
    {
     "name": "stdout",
     "output_type": "stream",
     "text": [
      "This is honda run\n"
     ]
    }
   ],
   "source": [
    "ob2 = Honda()\n",
    "ob2.run()"
   ]
  },
  {
   "cell_type": "markdown",
   "metadata": {},
   "source": [
    "# Practice Quiz"
   ]
  },
  {
   "cell_type": "code",
   "execution_count": 46,
   "metadata": {},
   "outputs": [
    {
     "name": "stdout",
     "output_type": "stream",
     "text": [
      "1\n",
      "0\n"
     ]
    }
   ],
   "source": [
    "class Test:\n",
    "\n",
    "    count=0;\n",
    "\n",
    "    def __init__(self):\n",
    "\n",
    "        pass\n",
    "\n",
    " \n",
    "\n",
    "    def incCount(self):\n",
    "\n",
    "        self.count+=1;\n",
    "\n",
    "        \n",
    "\n",
    "obj1 = Test()\n",
    "\n",
    "obj2 = Test()\n",
    "\n",
    "obj1.incCount()\n",
    "\n",
    "print(obj1.count)\n",
    "\n",
    "print(obj2.count)"
   ]
  },
  {
   "cell_type": "code",
   "execution_count": 47,
   "metadata": {},
   "outputs": [
    {
     "name": "stdout",
     "output_type": "stream",
     "text": [
      "Bye\n",
      "Hello\n"
     ]
    }
   ],
   "source": [
    "class Employee:\n",
    "\n",
    "    def __init__(self,name):\n",
    "\n",
    "        self.name=name\n",
    "\n",
    "        \n",
    "\n",
    "emp1 = Employee(\"Alex\")\n",
    "\n",
    "emp2 = Employee(\"Alex\")\n",
    "\n",
    "if id(emp1) == id(emp2):\n",
    "\n",
    "    print(\"Hello\")\n",
    "\n",
    "else:\n",
    "\n",
    "    print(\"Bye\")\n",
    "\n",
    " \n",
    "\n",
    "if id(emp1.name) == id(emp2.name):\n",
    "\n",
    "    print(\"Hello\")\n",
    "\n",
    "else:\n",
    "\n",
    "    print(\"Bye\")"
   ]
  },
  {
   "cell_type": "code",
   "execution_count": 48,
   "metadata": {},
   "outputs": [
    {
     "name": "stdout",
     "output_type": "stream",
     "text": [
      "Alex\n"
     ]
    },
    {
     "ename": "AttributeError",
     "evalue": "'Employee' object has no attribute '__pswrd'",
     "output_type": "error",
     "traceback": [
      "\u001b[1;31m---------------------------------------------------------------------------\u001b[0m",
      "\u001b[1;31mAttributeError\u001b[0m                            Traceback (most recent call last)",
      "\u001b[1;32m<ipython-input-48-6af48b86b0eb>\u001b[0m in \u001b[0;36m<module>\u001b[1;34m\u001b[0m\n\u001b[0;32m     15\u001b[0m \u001b[0mprint\u001b[0m\u001b[1;33m(\u001b[0m\u001b[0memp1\u001b[0m\u001b[1;33m.\u001b[0m\u001b[0mname\u001b[0m\u001b[1;33m)\u001b[0m\u001b[1;33m\u001b[0m\u001b[1;33m\u001b[0m\u001b[0m\n\u001b[0;32m     16\u001b[0m \u001b[1;33m\u001b[0m\u001b[0m\n\u001b[1;32m---> 17\u001b[1;33m \u001b[0mprint\u001b[0m\u001b[1;33m(\u001b[0m\u001b[0memp1\u001b[0m\u001b[1;33m.\u001b[0m\u001b[0m__pswrd\u001b[0m\u001b[1;33m)\u001b[0m\u001b[1;33m\u001b[0m\u001b[1;33m\u001b[0m\u001b[0m\n\u001b[0m",
      "\u001b[1;31mAttributeError\u001b[0m: 'Employee' object has no attribute '__pswrd'"
     ]
    }
   ],
   "source": [
    "class Employee:\n",
    "\n",
    "    def __init__(self,name,pswrd):\n",
    "\n",
    "        self.name=name\n",
    "\n",
    "        self.__pswrd=pswrd\n",
    "\n",
    "    \n",
    "\n",
    "            \n",
    "\n",
    "emp1 = Employee(\"Alex\",123)\n",
    "\n",
    "print(emp1.name)\n",
    "\n",
    "print(emp1.__pswrd)"
   ]
  },
  {
   "cell_type": "code",
   "execution_count": 50,
   "metadata": {},
   "outputs": [
    {
     "name": "stdout",
     "output_type": "stream",
     "text": [
      "buzz\n"
     ]
    },
    {
     "ename": "TypeError",
     "evalue": "func() takes 1 positional argument but 2 were given",
     "output_type": "error",
     "traceback": [
      "\u001b[1;31m---------------------------------------------------------------------------\u001b[0m",
      "\u001b[1;31mTypeError\u001b[0m                                 Traceback (most recent call last)",
      "\u001b[1;32m<ipython-input-50-913ce1d73ac0>\u001b[0m in \u001b[0;36m<module>\u001b[1;34m\u001b[0m\n\u001b[0;32m     23\u001b[0m \u001b[0mprint\u001b[0m\u001b[1;33m(\u001b[0m\u001b[0mob\u001b[0m\u001b[1;33m.\u001b[0m\u001b[0mfunc\u001b[0m\u001b[1;33m(\u001b[0m\u001b[1;33m)\u001b[0m\u001b[1;33m)\u001b[0m\u001b[1;33m\u001b[0m\u001b[1;33m\u001b[0m\u001b[0m\n\u001b[0;32m     24\u001b[0m \u001b[1;33m\u001b[0m\u001b[0m\n\u001b[1;32m---> 25\u001b[1;33m \u001b[0mprint\u001b[0m\u001b[1;33m(\u001b[0m\u001b[0mob\u001b[0m\u001b[1;33m.\u001b[0m\u001b[0mfunc\u001b[0m\u001b[1;33m(\u001b[0m\u001b[1;36m1\u001b[0m\u001b[1;33m)\u001b[0m\u001b[1;33m)\u001b[0m\u001b[1;33m\u001b[0m\u001b[1;33m\u001b[0m\u001b[0m\n\u001b[0m",
      "\u001b[1;31mTypeError\u001b[0m: func() takes 1 positional argument but 2 were given"
     ]
    }
   ],
   "source": [
    "class ABC:\n",
    "\n",
    "    \n",
    "\n",
    "    def func(self, a):\n",
    "\n",
    "        return \"fizz\"\n",
    "\n",
    "    \n",
    "\n",
    "    \n",
    "\n",
    "    def func(self):\n",
    "\n",
    "        return \"buzz\"\n",
    "\n",
    "    \n",
    "\n",
    "    \n",
    "\n",
    "ob = ABC()\n",
    "\n",
    "print(ob.func())\n",
    "\n",
    "print(ob.func(1))"
   ]
  },
  {
   "cell_type": "code",
   "execution_count": null,
   "metadata": {},
   "outputs": [],
   "source": []
  }
 ],
 "metadata": {
  "kernelspec": {
   "display_name": "Python 3",
   "language": "python",
   "name": "python3"
  },
  "language_info": {
   "codemirror_mode": {
    "name": "ipython",
    "version": 3
   },
   "file_extension": ".py",
   "mimetype": "text/x-python",
   "name": "python",
   "nbconvert_exporter": "python",
   "pygments_lexer": "ipython3",
   "version": "3.8.3"
  }
 },
 "nbformat": 4,
 "nbformat_minor": 4
}
